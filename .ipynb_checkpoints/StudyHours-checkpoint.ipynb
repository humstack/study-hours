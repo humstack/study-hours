{
 "cells": [
  {
   "cell_type": "markdown",
   "id": "39ecf40f-8f8e-4e77-b4f5-c503cd158b5a",
   "metadata": {},
   "source": [
    "### Predicting Student Score based on Study Hours"
   ]
  },
  {
   "cell_type": "code",
   "execution_count": 1,
   "id": "57cc38e0-a946-4666-9a06-05944d41a3f4",
   "metadata": {},
   "outputs": [],
   "source": [
    "import tensorflow as tf\n",
    "import pandas as pd\n",
    "import numpy as np\n",
    "from matplotlib import pyplot as plt"
   ]
  },
  {
   "cell_type": "code",
   "execution_count": 2,
   "id": "c5ad82d9-9962-4d6d-89b5-1ae25a55efb8",
   "metadata": {},
   "outputs": [
    {
     "name": "stdout",
     "output_type": "stream",
     "text": [
      "2.10.0\n"
     ]
    }
   ],
   "source": [
    "print(tf.__version__)"
   ]
  },
  {
   "cell_type": "markdown",
   "id": "54aee663-5ea7-40df-8ae1-ff1596694c54",
   "metadata": {},
   "source": [
    "## Load the data from the CSV file"
   ]
  },
  {
   "cell_type": "code",
   "execution_count": 3,
   "id": "6283275f-b64a-42e3-8e3b-b557215af05e",
   "metadata": {},
   "outputs": [
    {
     "data": {
      "text/html": [
       "<div>\n",
       "<style scoped>\n",
       "    .dataframe tbody tr th:only-of-type {\n",
       "        vertical-align: middle;\n",
       "    }\n",
       "\n",
       "    .dataframe tbody tr th {\n",
       "        vertical-align: top;\n",
       "    }\n",
       "\n",
       "    .dataframe thead th {\n",
       "        text-align: right;\n",
       "    }\n",
       "</style>\n",
       "<table border=\"1\" class=\"dataframe\">\n",
       "  <thead>\n",
       "    <tr style=\"text-align: right;\">\n",
       "      <th></th>\n",
       "      <th>Hours</th>\n",
       "      <th>Scores</th>\n",
       "    </tr>\n",
       "  </thead>\n",
       "  <tbody>\n",
       "    <tr>\n",
       "      <th>0</th>\n",
       "      <td>2.5</td>\n",
       "      <td>21</td>\n",
       "    </tr>\n",
       "    <tr>\n",
       "      <th>1</th>\n",
       "      <td>5.1</td>\n",
       "      <td>47</td>\n",
       "    </tr>\n",
       "    <tr>\n",
       "      <th>2</th>\n",
       "      <td>3.2</td>\n",
       "      <td>27</td>\n",
       "    </tr>\n",
       "    <tr>\n",
       "      <th>3</th>\n",
       "      <td>8.5</td>\n",
       "      <td>75</td>\n",
       "    </tr>\n",
       "    <tr>\n",
       "      <th>4</th>\n",
       "      <td>3.5</td>\n",
       "      <td>30</td>\n",
       "    </tr>\n",
       "    <tr>\n",
       "      <th>5</th>\n",
       "      <td>1.5</td>\n",
       "      <td>20</td>\n",
       "    </tr>\n",
       "    <tr>\n",
       "      <th>6</th>\n",
       "      <td>9.2</td>\n",
       "      <td>88</td>\n",
       "    </tr>\n",
       "    <tr>\n",
       "      <th>7</th>\n",
       "      <td>5.5</td>\n",
       "      <td>60</td>\n",
       "    </tr>\n",
       "    <tr>\n",
       "      <th>8</th>\n",
       "      <td>8.3</td>\n",
       "      <td>81</td>\n",
       "    </tr>\n",
       "    <tr>\n",
       "      <th>9</th>\n",
       "      <td>2.7</td>\n",
       "      <td>25</td>\n",
       "    </tr>\n",
       "    <tr>\n",
       "      <th>10</th>\n",
       "      <td>7.7</td>\n",
       "      <td>85</td>\n",
       "    </tr>\n",
       "    <tr>\n",
       "      <th>11</th>\n",
       "      <td>5.9</td>\n",
       "      <td>62</td>\n",
       "    </tr>\n",
       "    <tr>\n",
       "      <th>12</th>\n",
       "      <td>4.5</td>\n",
       "      <td>41</td>\n",
       "    </tr>\n",
       "    <tr>\n",
       "      <th>13</th>\n",
       "      <td>3.3</td>\n",
       "      <td>42</td>\n",
       "    </tr>\n",
       "    <tr>\n",
       "      <th>14</th>\n",
       "      <td>1.1</td>\n",
       "      <td>17</td>\n",
       "    </tr>\n",
       "    <tr>\n",
       "      <th>15</th>\n",
       "      <td>8.9</td>\n",
       "      <td>95</td>\n",
       "    </tr>\n",
       "    <tr>\n",
       "      <th>16</th>\n",
       "      <td>2.5</td>\n",
       "      <td>30</td>\n",
       "    </tr>\n",
       "    <tr>\n",
       "      <th>17</th>\n",
       "      <td>1.9</td>\n",
       "      <td>24</td>\n",
       "    </tr>\n",
       "    <tr>\n",
       "      <th>18</th>\n",
       "      <td>6.1</td>\n",
       "      <td>67</td>\n",
       "    </tr>\n",
       "    <tr>\n",
       "      <th>19</th>\n",
       "      <td>7.4</td>\n",
       "      <td>69</td>\n",
       "    </tr>\n",
       "    <tr>\n",
       "      <th>20</th>\n",
       "      <td>2.7</td>\n",
       "      <td>30</td>\n",
       "    </tr>\n",
       "    <tr>\n",
       "      <th>21</th>\n",
       "      <td>4.8</td>\n",
       "      <td>54</td>\n",
       "    </tr>\n",
       "    <tr>\n",
       "      <th>22</th>\n",
       "      <td>3.8</td>\n",
       "      <td>35</td>\n",
       "    </tr>\n",
       "    <tr>\n",
       "      <th>23</th>\n",
       "      <td>6.9</td>\n",
       "      <td>76</td>\n",
       "    </tr>\n",
       "    <tr>\n",
       "      <th>24</th>\n",
       "      <td>7.8</td>\n",
       "      <td>86</td>\n",
       "    </tr>\n",
       "  </tbody>\n",
       "</table>\n",
       "</div>"
      ],
      "text/plain": [
       "    Hours  Scores\n",
       "0     2.5      21\n",
       "1     5.1      47\n",
       "2     3.2      27\n",
       "3     8.5      75\n",
       "4     3.5      30\n",
       "5     1.5      20\n",
       "6     9.2      88\n",
       "7     5.5      60\n",
       "8     8.3      81\n",
       "9     2.7      25\n",
       "10    7.7      85\n",
       "11    5.9      62\n",
       "12    4.5      41\n",
       "13    3.3      42\n",
       "14    1.1      17\n",
       "15    8.9      95\n",
       "16    2.5      30\n",
       "17    1.9      24\n",
       "18    6.1      67\n",
       "19    7.4      69\n",
       "20    2.7      30\n",
       "21    4.8      54\n",
       "22    3.8      35\n",
       "23    6.9      76\n",
       "24    7.8      86"
      ]
     },
     "execution_count": 3,
     "metadata": {},
     "output_type": "execute_result"
    }
   ],
   "source": [
    "# Load the data into a pandas DataFrame\n",
    "student_data = pd.read_csv(\"./student_scores.csv\")\n",
    "student_data"
   ]
  },
  {
   "cell_type": "code",
   "execution_count": 4,
   "id": "231a6074-9fd5-4e3c-88c6-b156290dd940",
   "metadata": {},
   "outputs": [
    {
     "data": {
      "text/plain": [
       "(20, 20)"
      ]
     },
     "execution_count": 4,
     "metadata": {},
     "output_type": "execute_result"
    }
   ],
   "source": [
    "## Separate the data into training and test data\n",
    "from sklearn.model_selection import train_test_split\n",
    "X = student_data[\"Hours\"]\n",
    "y = student_data[\"Scores\"]\n",
    "\n",
    "# Split the data into training and test data\n",
    "X_train, X_test, y_train, y_test = train_test_split(X, y, random_state=42, test_size=0.20)\n",
    "\n",
    "X_train.size, y_train.size"
   ]
  },
  {
   "cell_type": "code",
   "execution_count": 5,
   "id": "bf080e0f-02ef-4050-a6e6-dfa3a65455c4",
   "metadata": {},
   "outputs": [
    {
     "data": {
      "text/plain": [
       "<keras.callbacks.History at 0x20af850aaa0>"
      ]
     },
     "execution_count": 5,
     "metadata": {},
     "output_type": "execute_result"
    }
   ],
   "source": [
    "# Set the random seed\n",
    "tf.random.set_seed(42)\n",
    "\n",
    "# 1. Create the model\n",
    "study_mod_1 = tf.keras.Sequential([\n",
    "    tf.keras.layers.Dense(2),\n",
    "    tf.keras.layers.Dense(1)\n",
    "])\n",
    "\n",
    "# 2. Compile the model\n",
    "study_mod_1.compile(loss=tf.keras.losses.mae,\n",
    "                    optimizer=tf.keras.optimizers.Adam(),\n",
    "                    metrics=[\"mae\"])\n",
    "\n",
    "# 3. Fit the model\n",
    "study_mod_1.fit(X_train, y_train, epochs=50, verbose=0)"
   ]
  },
  {
   "cell_type": "code",
   "execution_count": 6,
   "id": "d8f79bfa-d14c-436e-a7e5-7f3aae6eb998",
   "metadata": {},
   "outputs": [
    {
     "name": "stdout",
     "output_type": "stream",
     "text": [
      "1/1 [==============================] - 0s 67ms/step\n"
     ]
    }
   ],
   "source": [
    "# Evaluate the model\n",
    "y_preds_1 = study_mod_1.predict(X_test)"
   ]
  },
  {
   "cell_type": "code",
   "execution_count": 7,
   "id": "6e5c47d7-9f6f-4244-8d5f-8e837d6df3a2",
   "metadata": {},
   "outputs": [
    {
     "ename": "NameError",
     "evalue": "name 'plt' is not defined",
     "output_type": "error",
     "traceback": [
      "\u001b[1;31m---------------------------------------------------------------------------\u001b[0m",
      "\u001b[1;31mNameError\u001b[0m                                 Traceback (most recent call last)",
      "Cell \u001b[1;32mIn[7], line 2\u001b[0m\n\u001b[0;32m      1\u001b[0m \u001b[38;5;66;03m# Visualize the model's predictions\u001b[39;00m\n\u001b[1;32m----> 2\u001b[0m \u001b[43mplt\u001b[49m\u001b[38;5;241m.\u001b[39mplot(X_test, y_test)\n\u001b[0;32m      4\u001b[0m plt\u001b[38;5;241m.\u001b[39mplot(X_test, y_preds_1)\n\u001b[0;32m      6\u001b[0m plt\u001b[38;5;241m.\u001b[39mxlabel(\u001b[38;5;124m\"\u001b[39m\u001b[38;5;124mHours\u001b[39m\u001b[38;5;124m\"\u001b[39m)\n",
      "\u001b[1;31mNameError\u001b[0m: name 'plt' is not defined"
     ]
    }
   ],
   "source": [
    "# Visualize the model's predictions\n",
    "plt.plot(X_test, y_test)\n",
    "\n",
    "plt.plot(X_test, y_preds_1)\n",
    "\n",
    "plt.xlabel(\"Hours\")\n",
    "plt.ylabel(\"Scores\")\n",
    "\n",
    "plt.legend([\"Training Data\", \"Prediction Results\"])"
   ]
  },
  {
   "cell_type": "code",
   "execution_count": null,
   "id": "dcef5da0-ea1e-4fee-9572-60f5fd4e1b9a",
   "metadata": {},
   "outputs": [],
   "source": [
    "# High loss, increase the number of layers\n",
    "# 1. Set the random seed\n",
    "study_mod_2 = tf.keras.Sequential([\n",
    "    tf.keras.layers.Dense(4),\n",
    "    tf.keras.layers.Dense(1)\n",
    "])\n",
    "\n",
    "# 2. Compile the model\n",
    "study_mod_2.compile(loss=tf.keras.losses.mae,\n",
    "                    optimizer=tf.keras.optimizers.Adam(),\n",
    "                    metrics=[\"mae\"])\n",
    "\n",
    "# 3. Fit the model\n",
    "study_mod_2.fit(X_train, y_train, epochs=50, verbose=0)"
   ]
  },
  {
   "cell_type": "code",
   "execution_count": null,
   "id": "0a32a008-ac7d-42bd-9fde-8617ba3ad288",
   "metadata": {},
   "outputs": [],
   "source": [
    "# Evaluate the model\n",
    "y_preds_2 = study_mod_2.predict(X_test)"
   ]
  },
  {
   "cell_type": "code",
   "execution_count": null,
   "id": "d568f14c-ff72-4199-8530-4507fa8bc1cd",
   "metadata": {},
   "outputs": [],
   "source": [
    "# Visualize the model's accuracy\n",
    "plt.plot(X_test, y_test)\n",
    "\n",
    "plt.plot(X_test, y_preds_2)\n",
    "\n",
    "plt.xlabel(\"Hours\")\n",
    "plt.ylabel(\"Scores\")\n",
    "\n",
    "plt.legend([\"Training Data\", \"Prediction Results\"])"
   ]
  },
  {
   "cell_type": "code",
   "execution_count": null,
   "id": "937b584b-7ea3-4094-a282-af81b98446c1",
   "metadata": {},
   "outputs": [],
   "source": [
    "# Set the RELU activation function and increase the number of epochs\n",
    "# Set the random seed\n",
    "tf.random.set_seed(42)\n",
    "\n",
    "# 1. Create the model\n",
    "study_mod_3 = tf.keras.Sequential([\n",
    "    tf.keras.layers.Dense(4, activation=\"relu\"),\n",
    "    tf.keras.layers.Dense(1)\n",
    "])\n",
    "\n",
    "# 2. Compile the model\n",
    "study_mod_3.compile(loss=tf.keras.losses.mae,\n",
    "                    optimizer=tf.keras.optimizers.Adam(),\n",
    "                    metrics=[\"mae\"])\n",
    "\n",
    "# 3. Fit the model\n",
    "study_mod_3.fit(X_train, y_train, epochs=100, verbose=0)"
   ]
  },
  {
   "cell_type": "code",
   "execution_count": null,
   "id": "35521579-b181-4c87-a4fc-cbd7a2ad8b14",
   "metadata": {},
   "outputs": [],
   "source": [
    "# Evaluate the model\n",
    "y_preds_3 = study_mod_3.predict(X_test)"
   ]
  },
  {
   "cell_type": "code",
   "execution_count": null,
   "id": "1275fbe9-ce4f-4306-a852-57487b807d5a",
   "metadata": {},
   "outputs": [],
   "source": [
    "# Visualize the predictions\n",
    "plt.plot(X_test, y_test)\n",
    "\n",
    "plt.plot(X_test, y_preds_3)\n",
    "\n",
    "plt.xlabel(\"Hours\")\n",
    "plt.ylabel(\"Scores\")\n",
    "\n",
    "plt.legend([\"Training Data\", \"Prediction Results\"])"
   ]
  },
  {
   "cell_type": "code",
   "execution_count": null,
   "id": "02c5e505-c0f9-4a2f-8154-ace343c53dd1",
   "metadata": {},
   "outputs": [],
   "source": [
    "# Increase the learning rate\n",
    "# Set the random seed\n",
    "tf.random.set_seed(42)\n",
    "\n",
    "# 1. Create the model\n",
    "study_mod_4 = tf.keras.Sequential([\n",
    "    tf.keras.layers.Dense(4),\n",
    "    tf.keras.layers.Dense(1)\n",
    "])\n",
    "\n",
    "# 2. Compile the model\n",
    "study_mod_4.compile(loss=tf.keras.losses.mae,\n",
    "                    optimizer=tf.keras.optimizers.Adam(learning_rate=0.1),\n",
    "                    metrics=[\"mae\"])\n",
    "\n",
    "# 3. Fit the model\n",
    "study_mod_4.fit(X_train, y_train, epochs=100, verbose=0)"
   ]
  },
  {
   "cell_type": "code",
   "execution_count": null,
   "id": "9b959d3b-6ed8-4117-9f75-eef1935c59cc",
   "metadata": {},
   "outputs": [],
   "source": [
    "# Evaluate the model\n",
    "y_preds_4 = study_mod_4.predict(X_test)"
   ]
  },
  {
   "cell_type": "code",
   "execution_count": null,
   "id": "cdc46c48-2a7d-4529-ba86-ee53e775539e",
   "metadata": {},
   "outputs": [],
   "source": [
    "# Visualize the predictions' accuracy\n",
    "plt.plot(X_test, y_test)\n",
    "\n",
    "plt.plot(X_test, y_preds_4)\n",
    "\n",
    "plt.xlabel(\"Hours\")\n",
    "\n",
    "plt.ylabel(\"Scores\")\n",
    "\n",
    "plt.legend([\"Training Data\", \"Prediction Results\"])"
   ]
  },
  {
   "cell_type": "code",
   "execution_count": null,
   "id": "1b3af6b4-2fd9-4fcd-90e5-e653c4b5f80d",
   "metadata": {},
   "outputs": [],
   "source": [
    "## The model has significantly improved but we need to tweak it further\n",
    "# Set the random seed\n",
    "tf.random.set_seed(42)\n",
    "\n",
    "# 1. Create the model\n",
    "study_mod_5 = tf.keras.Sequential([\n",
    "    tf.keras.layers.Dense(4),\n",
    "    tf.keras.layers.Dense(4),\n",
    "    tf.keras.layers.Dense(1)\n",
    "])\n",
    "\n",
    "# 2. Compile the model\n",
    "study_mod_5.compile(loss=tf.keras.losses.mae,\n",
    "                    optimizer=tf.keras.optimizers.Adam(learning_rate=0.1),\n",
    "                    metrics=[\"mae\"])\n",
    "\n",
    "# 3. Fit the model\n",
    "study_mod_5.fit(X_train, y_train, epochs=100, verbose=0)"
   ]
  },
  {
   "cell_type": "code",
   "execution_count": null,
   "id": "f5ee674b-4ac6-4330-887c-ce56e41c8c97",
   "metadata": {},
   "outputs": [],
   "source": [
    "y_preds_5 = study_mod_5.predict(X_test)\n",
    "y_preds_5"
   ]
  },
  {
   "cell_type": "code",
   "execution_count": null,
   "id": "b2ccd0d6-e29a-4a5f-af2f-b77040b4da49",
   "metadata": {},
   "outputs": [],
   "source": [
    "# Plot the test data\n",
    "plt.plot(X_test, y_test)\n",
    "\n",
    "# Plot the prediction results\n",
    "plt.plot(X_test, y_preds_5)\n",
    "\n",
    "plt.xlabel(\"Hours\")\n",
    "\n",
    "plt.ylabel(\"Scores\")\n",
    "\n",
    "plt.legend([\"Training Data\", \"Prediction Results\"])"
   ]
  },
  {
   "cell_type": "code",
   "execution_count": null,
   "id": "1537277f-e181-4b54-8aeb-07f2e5270526",
   "metadata": {},
   "outputs": [],
   "source": [
    "# Try with a model with more nodes\n",
    "# Set the random seed\n",
    "tf.random.set_seed(42)\n",
    "\n",
    "# 1. Create the model\n",
    "study_mod_6 = tf.keras.Sequential([\n",
    "    tf.keras.layers.Dense(10),\n",
    "    tf.keras.layers.Dense(10),\n",
    "    tf.keras.layers.Dense(1)\n",
    "])\n",
    "\n",
    "# 2. Compile the model\n",
    "study_mod_6.compile(loss=tf.keras.losses.mae,\n",
    "                    optimizer=tf.keras.optimizers.Adam(learning_rate=0.1),\n",
    "                    metrics=[\"mae\"])\n",
    "\n",
    "# 3. Fit the model\n",
    "study_mod_6.fit(X_train, y_train, epochs=100, verbose=0)"
   ]
  },
  {
   "cell_type": "code",
   "execution_count": null,
   "id": "386c6491-c689-4480-9836-8981f22c309e",
   "metadata": {},
   "outputs": [],
   "source": [
    "y_preds_6 = study_mod_6.predict(X_test)"
   ]
  },
  {
   "cell_type": "code",
   "execution_count": null,
   "id": "070b1867-b826-431c-a857-59c4102cd631",
   "metadata": {},
   "outputs": [],
   "source": [
    "# Plot the training and the prediction data against the X values\n",
    "plt.plot(X_test, y_test)\n",
    "plt.plot(X_test, y_preds_6)\n",
    "\n",
    "plt.xlabel(\"Hours\")\n",
    "plt.ylabel(\"Scores\")\n",
    "\n",
    "plt.legend([\"Training Data\", \"Prediction Results\"])"
   ]
  },
  {
   "cell_type": "code",
   "execution_count": null,
   "id": "5df39294-b0b1-4242-9301-704657f545b2",
   "metadata": {},
   "outputs": [],
   "source": [
    "# The model has improved slighlty\n",
    "# Set the random seed\n",
    "tf.random.set_seed(42)\n",
    "\n",
    "# 1. Create the model\n",
    "study_mod_7 = tf.keras.Sequential([\n",
    "    tf.keras.layers.Dense(100),\n",
    "    tf.keras.layers.Dense(100),\n",
    "    tf.keras.layers.Dense(1)\n",
    "])\n",
    "\n",
    "# 2. Compile the model\n",
    "study_mod_7.compile(loss=tf.keras.losses.mae,\n",
    "                    optimizer=tf.keras.optimizers.Adam(learning_rate=0.1),\n",
    "                    metrics=[\"mae\"])\n",
    "\n",
    "# 3. Fit the model\n",
    "study_mod_7.fit(X_train, y_train, epochs=100, verbose=0)"
   ]
  },
  {
   "cell_type": "code",
   "execution_count": null,
   "id": "3301c95c-7394-46a8-a704-bbc9b9891442",
   "metadata": {},
   "outputs": [],
   "source": [
    "# Evaluate the prediction capabality\n",
    "y_preds_7 = study_mod_7.predict(X_test)"
   ]
  },
  {
   "cell_type": "code",
   "execution_count": null,
   "id": "3947e92a-061b-41dc-a072-a734f3b0a5a1",
   "metadata": {},
   "outputs": [],
   "source": [
    "# Plot the values on a graph\n",
    "# Plot training data\n",
    "plt.plot(X_test, y_test)\n",
    "\n",
    "# Plot prediction data\n",
    "plt.plot(X_test, y_preds_7)\n",
    "\n",
    "plt.xlabel(\"Hours\")\n",
    "plt.ylabel(\"Scores\")\n",
    "\n",
    "plt.legend([\"Training Data\", \"Prediction Results\"])"
   ]
  },
  {
   "cell_type": "code",
   "execution_count": null,
   "id": "808df8d2-3ea4-4c48-9be7-d4c928cca407",
   "metadata": {},
   "outputs": [],
   "source": [
    "# The model's prediction results are way off the test data\n",
    "# Set the random seed\n",
    "tf.random.set_seed(42)\n",
    "\n",
    "# 1. Create the model\n",
    "study_mod_8 = tf.keras.Sequential([\n",
    "    tf.keras.layers.Dense(10, activation=\"relu\"),\n",
    "    tf.keras.layers.Dense(10, activation=\"relu\"),\n",
    "    tf.keras.layers.Dense(1, activation=\"relu\")\n",
    "])\n",
    "\n",
    "# 2. Compile the model\n",
    "study_mod_8.compile(loss=tf.keras.losses.mae,\n",
    "                   optimizer=tf.keras.optimizers.SGD(),\n",
    "                    metrics=[\"mae\"])\n",
    "\n",
    "# 3. Fit the model\n",
    "study_mod_8.fit(X_train, y_train, epochs=100, verbose=0)"
   ]
  },
  {
   "cell_type": "code",
   "execution_count": null,
   "id": "49b2b2fb-6b2d-42a9-8b66-6c5bc951d2c7",
   "metadata": {},
   "outputs": [],
   "source": [
    "# Evaluate the accuracy of predictions\n",
    "y_preds_8 = study_mod_8.predict(X_test)"
   ]
  },
  {
   "cell_type": "code",
   "execution_count": null,
   "id": "9a2a50d8-de2c-4f01-8558-4b267339b0e6",
   "metadata": {},
   "outputs": [],
   "source": [
    "# Plot the predictions and test data on a graph\n",
    "plt.plot(X_test, y_test)\n",
    "\n",
    "plt.plot(X_test, y_preds_8)\n",
    "\n",
    "plt.xlabel(\"Hours\")\n",
    "plt.ylabel(\"Scores\")\n",
    "\n",
    "plt.legend([\"Training Data\", \"Prediction Results\"])"
   ]
  },
  {
   "cell_type": "code",
   "execution_count": null,
   "id": "1d190e3c-16f0-44a5-a6fa-b00a9c5b99fd",
   "metadata": {},
   "outputs": [],
   "source": [
    "# Use a different activation function\n",
    "# Set the random seed\n",
    "tf.random.set_seed(42)\n",
    "\n",
    "# 1. Create the model\n",
    "study_mod_9 = tf.keras.Sequential([\n",
    "    tf.keras.layers.Dense(10, activation=\"relu\"),\n",
    "    tf.keras.layers.Dense(10, activation=\"relu\"),\n",
    "    tf.keras.layers.Dense(1, activation=\"relu\")\n",
    "])\n",
    "\n",
    "# 2. Compile the model\n",
    "study_mod_9.compile(loss=tf.keras.losses.mae,\n",
    "                    optimizer=tf.keras.optimizers.Adam(learning_rate=0.1),\n",
    "                    metrics=[\"mae\"])\n",
    "\n",
    "# 3. Fit the model\n",
    "study_mod_9.fit(X_train, y_train, epochs=100, verbose=0)"
   ]
  },
  {
   "cell_type": "code",
   "execution_count": null,
   "id": "c6f5bf3f-6937-4f9e-bb15-d6a8a61c7fcb",
   "metadata": {},
   "outputs": [],
   "source": [
    "# Check the accuracy of the predictions\n",
    "y_preds_9 = study_mod_9.predict(X_test)\n",
    "y_preds_9"
   ]
  },
  {
   "cell_type": "code",
   "execution_count": null,
   "id": "f3bf4f18-786a-4470-8344-038693a030e0",
   "metadata": {},
   "outputs": [],
   "source": [
    "# Visualize the predictions\n",
    "plt.plot(X_test, y_test)\n",
    "\n",
    "plt.plot(X_test, y_preds_9)\n",
    "\n",
    "plt.xlabel(\"Hours\")\n",
    "plt.ylabel(\"Scores\")\n",
    "\n",
    "plt.legend([\"Training Data\", \"Prediction Results\"])"
   ]
  },
  {
   "cell_type": "code",
   "execution_count": null,
   "id": "67c0fc7e-a607-4b66-b716-1fdcb5a2c986",
   "metadata": {},
   "outputs": [],
   "source": [
    "# Increase the epochs\n",
    "tf.random.set_seed(42)\n",
    "\n",
    "# 1. Create the model\n",
    "study_mod_10 = tf.keras.Sequential([\n",
    "    tf.keras.layers.Dense(1),\n",
    "    tf.keras.layers.Dense(10),\n",
    "    tf.keras.layers.Dense(10),\n",
    "    tf.keras.layers.Dense(1)\n",
    "])\n",
    "\n",
    "# 2. Compile the model\n",
    "study_mod_10.compile(loss=tf.keras.losses.mae,\n",
    "                     optimizer=tf.keras.optimizers.Adam(learning_rate=0.1),\n",
    "                     metrics=[\"mae\"])\n",
    "\n",
    "# 3. Fit the model\n",
    "study_mod_10.fit(X_train, y_train, epochs=200, verbose=0)"
   ]
  },
  {
   "cell_type": "code",
   "execution_count": null,
   "id": "e19a5237-be20-4233-aa4c-6b3ef73ed4ce",
   "metadata": {},
   "outputs": [],
   "source": [
    "# Evaluate the accuracy of the predictions\n",
    "y_preds_10 = study_mod_10.predict(X_test)"
   ]
  },
  {
   "cell_type": "code",
   "execution_count": null,
   "id": "374992fb-9e92-4f84-a007-41c45d0544a5",
   "metadata": {},
   "outputs": [],
   "source": [
    "# Visualize the predictions\n",
    "plt.plot(X_test, y_test)\n",
    "\n",
    "plt.plot(X_test, y_preds_10)\n",
    "\n",
    "plt.xlabel(\"Hours\")\n",
    "plt.ylabel(\"Scores\")\n",
    "\n",
    "plt.legend([\"Training Data\", \"Prediction Results\"])"
   ]
  },
  {
   "cell_type": "code",
   "execution_count": null,
   "id": "6f23a075-7c1e-4e7b-85aa-7b98f8e2a5b1",
   "metadata": {},
   "outputs": [],
   "source": [
    "predict = study_mod_10.predict(tf.constant([[9.25,]]))\n",
    "predict"
   ]
  },
  {
   "cell_type": "code",
   "execution_count": null,
   "id": "c7084a30-d6ae-406a-bb4a-4366ef12155b",
   "metadata": {},
   "outputs": [],
   "source": []
  }
 ],
 "metadata": {
  "kernelspec": {
   "display_name": "tensor",
   "language": "python",
   "name": "tensor"
  },
  "language_info": {
   "codemirror_mode": {
    "name": "ipython",
    "version": 3
   },
   "file_extension": ".py",
   "mimetype": "text/x-python",
   "name": "python",
   "nbconvert_exporter": "python",
   "pygments_lexer": "ipython3",
   "version": "3.10.13"
  }
 },
 "nbformat": 4,
 "nbformat_minor": 5
}
